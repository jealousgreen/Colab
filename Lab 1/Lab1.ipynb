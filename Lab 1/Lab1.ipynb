{
  "nbformat": 4,
  "nbformat_minor": 0,
  "metadata": {
    "colab": {
      "provenance": []
    },
    "kernelspec": {
      "name": "python3",
      "display_name": "Python 3"
    },
    "language_info": {
      "name": "python"
    }
  },
  "cells": [
    {
      "cell_type": "markdown",
      "source": [
        "Лабораторная работа по теме “Фреймворки Python для ML(CatBoost,scikitlearn)”\n",
        "\n"
      ],
      "metadata": {
        "id": "PjOIlAFdr9KU"
      }
    },
    {
      "cell_type": "code",
      "source": [
        "\n",
        "pip install catboost"
      ],
      "metadata": {
        "colab": {
          "base_uri": "https://localhost:8080/"
        },
        "id": "t34SQS7qtlI8",
        "outputId": "bcb41e2b-9df5-4b13-9824-c178737b2d3f"
      },
      "execution_count": 107,
      "outputs": [
        {
          "output_type": "stream",
          "name": "stdout",
          "text": [
            "Requirement already satisfied: catboost in /usr/local/lib/python3.10/dist-packages (1.2.2)\n",
            "Requirement already satisfied: graphviz in /usr/local/lib/python3.10/dist-packages (from catboost) (0.20.1)\n",
            "Requirement already satisfied: matplotlib in /usr/local/lib/python3.10/dist-packages (from catboost) (3.7.1)\n",
            "Requirement already satisfied: numpy>=1.16.0 in /usr/local/lib/python3.10/dist-packages (from catboost) (1.23.5)\n",
            "Requirement already satisfied: pandas>=0.24 in /usr/local/lib/python3.10/dist-packages (from catboost) (1.5.3)\n",
            "Requirement already satisfied: scipy in /usr/local/lib/python3.10/dist-packages (from catboost) (1.11.3)\n",
            "Requirement already satisfied: plotly in /usr/local/lib/python3.10/dist-packages (from catboost) (5.15.0)\n",
            "Requirement already satisfied: six in /usr/local/lib/python3.10/dist-packages (from catboost) (1.16.0)\n",
            "Requirement already satisfied: python-dateutil>=2.8.1 in /usr/local/lib/python3.10/dist-packages (from pandas>=0.24->catboost) (2.8.2)\n",
            "Requirement already satisfied: pytz>=2020.1 in /usr/local/lib/python3.10/dist-packages (from pandas>=0.24->catboost) (2023.3.post1)\n",
            "Requirement already satisfied: contourpy>=1.0.1 in /usr/local/lib/python3.10/dist-packages (from matplotlib->catboost) (1.1.1)\n",
            "Requirement already satisfied: cycler>=0.10 in /usr/local/lib/python3.10/dist-packages (from matplotlib->catboost) (0.12.0)\n",
            "Requirement already satisfied: fonttools>=4.22.0 in /usr/local/lib/python3.10/dist-packages (from matplotlib->catboost) (4.43.0)\n",
            "Requirement already satisfied: kiwisolver>=1.0.1 in /usr/local/lib/python3.10/dist-packages (from matplotlib->catboost) (1.4.5)\n",
            "Requirement already satisfied: packaging>=20.0 in /usr/local/lib/python3.10/dist-packages (from matplotlib->catboost) (23.2)\n",
            "Requirement already satisfied: pillow>=6.2.0 in /usr/local/lib/python3.10/dist-packages (from matplotlib->catboost) (9.4.0)\n",
            "Requirement already satisfied: pyparsing>=2.3.1 in /usr/local/lib/python3.10/dist-packages (from matplotlib->catboost) (3.1.1)\n",
            "Requirement already satisfied: tenacity>=6.2.0 in /usr/local/lib/python3.10/dist-packages (from plotly->catboost) (8.2.3)\n"
          ]
        }
      ]
    },
    {
      "cell_type": "markdown",
      "source": [
        "1.Создайте датасет из не менее чем 2000 записей,содержащий данные о среднем балле студентов(от 0 до 99) по 6 предметам и оценка итоговой лабораторной работы(удовлетворительно,хорошо,отлично).Названия предметов,средний балл,время решения итоговой лабораторной работы задается произвольно на ваше усмотрение."
      ],
      "metadata": {
        "id": "QoPEZZ0bxgfV"
      }
    },
    {
      "cell_type": "code",
      "execution_count": 108,
      "metadata": {
        "id": "UNdAbqbmr5KM"
      },
      "outputs": [],
      "source": [
        "import pandas as pd\n",
        "import numpy as np\n",
        "from sklearn.preprocessing import LabelEncoder\n",
        "from sklearn.model_selection import train_test_split\n",
        "from sklearn.linear_model import LogisticRegression\n",
        "from sklearn.metrics import accuracy_score\n",
        "\n",
        "# Создаем датафрейм с рандомными оценками\n",
        "subjects = ['Mathematics', 'Physics', 'Chemistry', 'Biology', 'History', 'Computer Science']\n",
        "grades = np.random.randint(0, 100, size=(2000, 6))\n",
        "lab_grade = np.random.choice(['C', 'B', 'A'], size=2000)\n",
        "\n",
        "# Оценка по лабораторной работе\n",
        "data = pd.DataFrame(grades, columns=subjects)\n",
        "data.insert(6,'Grade', lab_grade)"
      ]
    },
    {
      "cell_type": "code",
      "source": [
        "print(data)"
      ],
      "metadata": {
        "colab": {
          "base_uri": "https://localhost:8080/"
        },
        "id": "6EypVACazqo2",
        "outputId": "eb747506-c0ce-4f0e-8d0d-3bc0de41a1b9"
      },
      "execution_count": 109,
      "outputs": [
        {
          "output_type": "stream",
          "name": "stdout",
          "text": [
            "      Mathematics  Physics  Chemistry  Biology  History  Computer Science  \\\n",
            "0              11       97         43       33        6                 8   \n",
            "1              67       11         74       47       29                84   \n",
            "2              44        2         23       90       65                87   \n",
            "3               7       38         16       78       31                48   \n",
            "4              75       21         35       35        0                39   \n",
            "...           ...      ...        ...      ...      ...               ...   \n",
            "1995           49       46         83        6       50                44   \n",
            "1996            9       68         30       45       16                78   \n",
            "1997           31       72         31       60       53                60   \n",
            "1998           29        9         90       47        7                92   \n",
            "1999            1       36         54       78       42                96   \n",
            "\n",
            "     Grade  \n",
            "0        C  \n",
            "1        C  \n",
            "2        A  \n",
            "3        A  \n",
            "4        B  \n",
            "...    ...  \n",
            "1995     C  \n",
            "1996     C  \n",
            "1997     C  \n",
            "1998     B  \n",
            "1999     A  \n",
            "\n",
            "[2000 rows x 7 columns]\n"
          ]
        }
      ]
    },
    {
      "cell_type": "code",
      "source": [
        "# Оценки по лабараторным в кат. данные\n",
        "le = LabelEncoder()\n",
        "le.fit(data.Grade)\n",
        "data.Grade = le.transform(data.Grade)\n",
        "data.head()"
      ],
      "metadata": {
        "colab": {
          "base_uri": "https://localhost:8080/",
          "height": 206
        },
        "id": "SRdXx7KNtN6r",
        "outputId": "b0537586-ff4f-4eee-a543-ffe90376e8b1"
      },
      "execution_count": 110,
      "outputs": [
        {
          "output_type": "execute_result",
          "data": {
            "text/plain": [
              "   Mathematics  Physics  Chemistry  Biology  History  Computer Science  Grade\n",
              "0           11       97         43       33        6                 8      2\n",
              "1           67       11         74       47       29                84      2\n",
              "2           44        2         23       90       65                87      0\n",
              "3            7       38         16       78       31                48      0\n",
              "4           75       21         35       35        0                39      1"
            ],
            "text/html": [
              "\n",
              "  <div id=\"df-38156afa-9eef-457f-a697-af2383cfb4ee\" class=\"colab-df-container\">\n",
              "    <div>\n",
              "<style scoped>\n",
              "    .dataframe tbody tr th:only-of-type {\n",
              "        vertical-align: middle;\n",
              "    }\n",
              "\n",
              "    .dataframe tbody tr th {\n",
              "        vertical-align: top;\n",
              "    }\n",
              "\n",
              "    .dataframe thead th {\n",
              "        text-align: right;\n",
              "    }\n",
              "</style>\n",
              "<table border=\"1\" class=\"dataframe\">\n",
              "  <thead>\n",
              "    <tr style=\"text-align: right;\">\n",
              "      <th></th>\n",
              "      <th>Mathematics</th>\n",
              "      <th>Physics</th>\n",
              "      <th>Chemistry</th>\n",
              "      <th>Biology</th>\n",
              "      <th>History</th>\n",
              "      <th>Computer Science</th>\n",
              "      <th>Grade</th>\n",
              "    </tr>\n",
              "  </thead>\n",
              "  <tbody>\n",
              "    <tr>\n",
              "      <th>0</th>\n",
              "      <td>11</td>\n",
              "      <td>97</td>\n",
              "      <td>43</td>\n",
              "      <td>33</td>\n",
              "      <td>6</td>\n",
              "      <td>8</td>\n",
              "      <td>2</td>\n",
              "    </tr>\n",
              "    <tr>\n",
              "      <th>1</th>\n",
              "      <td>67</td>\n",
              "      <td>11</td>\n",
              "      <td>74</td>\n",
              "      <td>47</td>\n",
              "      <td>29</td>\n",
              "      <td>84</td>\n",
              "      <td>2</td>\n",
              "    </tr>\n",
              "    <tr>\n",
              "      <th>2</th>\n",
              "      <td>44</td>\n",
              "      <td>2</td>\n",
              "      <td>23</td>\n",
              "      <td>90</td>\n",
              "      <td>65</td>\n",
              "      <td>87</td>\n",
              "      <td>0</td>\n",
              "    </tr>\n",
              "    <tr>\n",
              "      <th>3</th>\n",
              "      <td>7</td>\n",
              "      <td>38</td>\n",
              "      <td>16</td>\n",
              "      <td>78</td>\n",
              "      <td>31</td>\n",
              "      <td>48</td>\n",
              "      <td>0</td>\n",
              "    </tr>\n",
              "    <tr>\n",
              "      <th>4</th>\n",
              "      <td>75</td>\n",
              "      <td>21</td>\n",
              "      <td>35</td>\n",
              "      <td>35</td>\n",
              "      <td>0</td>\n",
              "      <td>39</td>\n",
              "      <td>1</td>\n",
              "    </tr>\n",
              "  </tbody>\n",
              "</table>\n",
              "</div>\n",
              "    <div class=\"colab-df-buttons\">\n",
              "\n",
              "  <div class=\"colab-df-container\">\n",
              "    <button class=\"colab-df-convert\" onclick=\"convertToInteractive('df-38156afa-9eef-457f-a697-af2383cfb4ee')\"\n",
              "            title=\"Convert this dataframe to an interactive table.\"\n",
              "            style=\"display:none;\">\n",
              "\n",
              "  <svg xmlns=\"http://www.w3.org/2000/svg\" height=\"24px\" viewBox=\"0 -960 960 960\">\n",
              "    <path d=\"M120-120v-720h720v720H120Zm60-500h600v-160H180v160Zm220 220h160v-160H400v160Zm0 220h160v-160H400v160ZM180-400h160v-160H180v160Zm440 0h160v-160H620v160ZM180-180h160v-160H180v160Zm440 0h160v-160H620v160Z\"/>\n",
              "  </svg>\n",
              "    </button>\n",
              "\n",
              "  <style>\n",
              "    .colab-df-container {\n",
              "      display:flex;\n",
              "      gap: 12px;\n",
              "    }\n",
              "\n",
              "    .colab-df-convert {\n",
              "      background-color: #E8F0FE;\n",
              "      border: none;\n",
              "      border-radius: 50%;\n",
              "      cursor: pointer;\n",
              "      display: none;\n",
              "      fill: #1967D2;\n",
              "      height: 32px;\n",
              "      padding: 0 0 0 0;\n",
              "      width: 32px;\n",
              "    }\n",
              "\n",
              "    .colab-df-convert:hover {\n",
              "      background-color: #E2EBFA;\n",
              "      box-shadow: 0px 1px 2px rgba(60, 64, 67, 0.3), 0px 1px 3px 1px rgba(60, 64, 67, 0.15);\n",
              "      fill: #174EA6;\n",
              "    }\n",
              "\n",
              "    .colab-df-buttons div {\n",
              "      margin-bottom: 4px;\n",
              "    }\n",
              "\n",
              "    [theme=dark] .colab-df-convert {\n",
              "      background-color: #3B4455;\n",
              "      fill: #D2E3FC;\n",
              "    }\n",
              "\n",
              "    [theme=dark] .colab-df-convert:hover {\n",
              "      background-color: #434B5C;\n",
              "      box-shadow: 0px 1px 3px 1px rgba(0, 0, 0, 0.15);\n",
              "      filter: drop-shadow(0px 1px 2px rgba(0, 0, 0, 0.3));\n",
              "      fill: #FFFFFF;\n",
              "    }\n",
              "  </style>\n",
              "\n",
              "    <script>\n",
              "      const buttonEl =\n",
              "        document.querySelector('#df-38156afa-9eef-457f-a697-af2383cfb4ee button.colab-df-convert');\n",
              "      buttonEl.style.display =\n",
              "        google.colab.kernel.accessAllowed ? 'block' : 'none';\n",
              "\n",
              "      async function convertToInteractive(key) {\n",
              "        const element = document.querySelector('#df-38156afa-9eef-457f-a697-af2383cfb4ee');\n",
              "        const dataTable =\n",
              "          await google.colab.kernel.invokeFunction('convertToInteractive',\n",
              "                                                    [key], {});\n",
              "        if (!dataTable) return;\n",
              "\n",
              "        const docLinkHtml = 'Like what you see? Visit the ' +\n",
              "          '<a target=\"_blank\" href=https://colab.research.google.com/notebooks/data_table.ipynb>data table notebook</a>'\n",
              "          + ' to learn more about interactive tables.';\n",
              "        element.innerHTML = '';\n",
              "        dataTable['output_type'] = 'display_data';\n",
              "        await google.colab.output.renderOutput(dataTable, element);\n",
              "        const docLink = document.createElement('div');\n",
              "        docLink.innerHTML = docLinkHtml;\n",
              "        element.appendChild(docLink);\n",
              "      }\n",
              "    </script>\n",
              "  </div>\n",
              "\n",
              "\n",
              "<div id=\"df-4df86976-55c0-4293-a80d-9a6bb18bcecd\">\n",
              "  <button class=\"colab-df-quickchart\" onclick=\"quickchart('df-4df86976-55c0-4293-a80d-9a6bb18bcecd')\"\n",
              "            title=\"Suggest charts.\"\n",
              "            style=\"display:none;\">\n",
              "\n",
              "<svg xmlns=\"http://www.w3.org/2000/svg\" height=\"24px\"viewBox=\"0 0 24 24\"\n",
              "     width=\"24px\">\n",
              "    <g>\n",
              "        <path d=\"M19 3H5c-1.1 0-2 .9-2 2v14c0 1.1.9 2 2 2h14c1.1 0 2-.9 2-2V5c0-1.1-.9-2-2-2zM9 17H7v-7h2v7zm4 0h-2V7h2v10zm4 0h-2v-4h2v4z\"/>\n",
              "    </g>\n",
              "</svg>\n",
              "  </button>\n",
              "\n",
              "<style>\n",
              "  .colab-df-quickchart {\n",
              "      --bg-color: #E8F0FE;\n",
              "      --fill-color: #1967D2;\n",
              "      --hover-bg-color: #E2EBFA;\n",
              "      --hover-fill-color: #174EA6;\n",
              "      --disabled-fill-color: #AAA;\n",
              "      --disabled-bg-color: #DDD;\n",
              "  }\n",
              "\n",
              "  [theme=dark] .colab-df-quickchart {\n",
              "      --bg-color: #3B4455;\n",
              "      --fill-color: #D2E3FC;\n",
              "      --hover-bg-color: #434B5C;\n",
              "      --hover-fill-color: #FFFFFF;\n",
              "      --disabled-bg-color: #3B4455;\n",
              "      --disabled-fill-color: #666;\n",
              "  }\n",
              "\n",
              "  .colab-df-quickchart {\n",
              "    background-color: var(--bg-color);\n",
              "    border: none;\n",
              "    border-radius: 50%;\n",
              "    cursor: pointer;\n",
              "    display: none;\n",
              "    fill: var(--fill-color);\n",
              "    height: 32px;\n",
              "    padding: 0;\n",
              "    width: 32px;\n",
              "  }\n",
              "\n",
              "  .colab-df-quickchart:hover {\n",
              "    background-color: var(--hover-bg-color);\n",
              "    box-shadow: 0 1px 2px rgba(60, 64, 67, 0.3), 0 1px 3px 1px rgba(60, 64, 67, 0.15);\n",
              "    fill: var(--button-hover-fill-color);\n",
              "  }\n",
              "\n",
              "  .colab-df-quickchart-complete:disabled,\n",
              "  .colab-df-quickchart-complete:disabled:hover {\n",
              "    background-color: var(--disabled-bg-color);\n",
              "    fill: var(--disabled-fill-color);\n",
              "    box-shadow: none;\n",
              "  }\n",
              "\n",
              "  .colab-df-spinner {\n",
              "    border: 2px solid var(--fill-color);\n",
              "    border-color: transparent;\n",
              "    border-bottom-color: var(--fill-color);\n",
              "    animation:\n",
              "      spin 1s steps(1) infinite;\n",
              "  }\n",
              "\n",
              "  @keyframes spin {\n",
              "    0% {\n",
              "      border-color: transparent;\n",
              "      border-bottom-color: var(--fill-color);\n",
              "      border-left-color: var(--fill-color);\n",
              "    }\n",
              "    20% {\n",
              "      border-color: transparent;\n",
              "      border-left-color: var(--fill-color);\n",
              "      border-top-color: var(--fill-color);\n",
              "    }\n",
              "    30% {\n",
              "      border-color: transparent;\n",
              "      border-left-color: var(--fill-color);\n",
              "      border-top-color: var(--fill-color);\n",
              "      border-right-color: var(--fill-color);\n",
              "    }\n",
              "    40% {\n",
              "      border-color: transparent;\n",
              "      border-right-color: var(--fill-color);\n",
              "      border-top-color: var(--fill-color);\n",
              "    }\n",
              "    60% {\n",
              "      border-color: transparent;\n",
              "      border-right-color: var(--fill-color);\n",
              "    }\n",
              "    80% {\n",
              "      border-color: transparent;\n",
              "      border-right-color: var(--fill-color);\n",
              "      border-bottom-color: var(--fill-color);\n",
              "    }\n",
              "    90% {\n",
              "      border-color: transparent;\n",
              "      border-bottom-color: var(--fill-color);\n",
              "    }\n",
              "  }\n",
              "</style>\n",
              "\n",
              "  <script>\n",
              "    async function quickchart(key) {\n",
              "      const quickchartButtonEl =\n",
              "        document.querySelector('#' + key + ' button');\n",
              "      quickchartButtonEl.disabled = true;  // To prevent multiple clicks.\n",
              "      quickchartButtonEl.classList.add('colab-df-spinner');\n",
              "      try {\n",
              "        const charts = await google.colab.kernel.invokeFunction(\n",
              "            'suggestCharts', [key], {});\n",
              "      } catch (error) {\n",
              "        console.error('Error during call to suggestCharts:', error);\n",
              "      }\n",
              "      quickchartButtonEl.classList.remove('colab-df-spinner');\n",
              "      quickchartButtonEl.classList.add('colab-df-quickchart-complete');\n",
              "    }\n",
              "    (() => {\n",
              "      let quickchartButtonEl =\n",
              "        document.querySelector('#df-4df86976-55c0-4293-a80d-9a6bb18bcecd button');\n",
              "      quickchartButtonEl.style.display =\n",
              "        google.colab.kernel.accessAllowed ? 'block' : 'none';\n",
              "    })();\n",
              "  </script>\n",
              "</div>\n",
              "    </div>\n",
              "  </div>\n"
            ]
          },
          "metadata": {},
          "execution_count": 110
        }
      ]
    },
    {
      "cell_type": "markdown",
      "source": [
        "2. Разбейте датасет на тестовую и обучающую выборку.\n",
        "3. Выберите лучшие 3 признака для обучения."
      ],
      "metadata": {
        "id": "rrQ5Z5o-tUdC"
      }
    },
    {
      "cell_type": "code",
      "source": [
        "# Топ 3 по grade\n",
        "corr = data.corr()\n",
        "corr.style.background_gradient(cmap='PuBu', low=0, high=0, axis=0, subset=None)\n"
      ],
      "metadata": {
        "colab": {
          "base_uri": "https://localhost:8080/",
          "height": 269
        },
        "id": "bX59l3cltWEe",
        "outputId": "fc4d1c06-b8a1-47e9-cca2-7bd57c1f8bf1"
      },
      "execution_count": 111,
      "outputs": [
        {
          "output_type": "execute_result",
          "data": {
            "text/plain": [
              "<pandas.io.formats.style.Styler at 0x7d07d9245ab0>"
            ],
            "text/html": [
              "<style type=\"text/css\">\n",
              "#T_88ceb_row0_col0, #T_88ceb_row1_col1, #T_88ceb_row2_col2, #T_88ceb_row3_col3, #T_88ceb_row4_col4, #T_88ceb_row5_col5, #T_88ceb_row6_col6 {\n",
              "  background-color: #023858;\n",
              "  color: #f1f1f1;\n",
              "}\n",
              "#T_88ceb_row0_col1, #T_88ceb_row6_col0 {\n",
              "  background-color: #faf2f8;\n",
              "  color: #000000;\n",
              "}\n",
              "#T_88ceb_row0_col2, #T_88ceb_row0_col3, #T_88ceb_row2_col0, #T_88ceb_row2_col1, #T_88ceb_row2_col6, #T_88ceb_row4_col5, #T_88ceb_row5_col4, #T_88ceb_row5_col6 {\n",
              "  background-color: #fff7fb;\n",
              "  color: #000000;\n",
              "}\n",
              "#T_88ceb_row0_col4, #T_88ceb_row1_col6, #T_88ceb_row5_col3 {\n",
              "  background-color: #f9f2f8;\n",
              "  color: #000000;\n",
              "}\n",
              "#T_88ceb_row0_col5, #T_88ceb_row3_col6, #T_88ceb_row5_col0, #T_88ceb_row6_col3 {\n",
              "  background-color: #f7f0f7;\n",
              "  color: #000000;\n",
              "}\n",
              "#T_88ceb_row0_col6, #T_88ceb_row2_col4, #T_88ceb_row4_col1, #T_88ceb_row5_col2 {\n",
              "  background-color: #fcf4fa;\n",
              "  color: #000000;\n",
              "}\n",
              "#T_88ceb_row1_col0, #T_88ceb_row3_col5, #T_88ceb_row4_col0, #T_88ceb_row6_col1, #T_88ceb_row6_col4 {\n",
              "  background-color: #f8f1f8;\n",
              "  color: #000000;\n",
              "}\n",
              "#T_88ceb_row1_col2, #T_88ceb_row3_col0 {\n",
              "  background-color: #fef6fa;\n",
              "  color: #000000;\n",
              "}\n",
              "#T_88ceb_row1_col3, #T_88ceb_row1_col4, #T_88ceb_row3_col1, #T_88ceb_row3_col2 {\n",
              "  background-color: #fbf3f9;\n",
              "  color: #000000;\n",
              "}\n",
              "#T_88ceb_row1_col5, #T_88ceb_row3_col4, #T_88ceb_row4_col6 {\n",
              "  background-color: #faf3f9;\n",
              "  color: #000000;\n",
              "}\n",
              "#T_88ceb_row2_col3, #T_88ceb_row2_col5, #T_88ceb_row6_col2, #T_88ceb_row6_col5 {\n",
              "  background-color: #fdf5fa;\n",
              "  color: #000000;\n",
              "}\n",
              "#T_88ceb_row4_col2, #T_88ceb_row4_col3, #T_88ceb_row5_col1 {\n",
              "  background-color: #fbf4f9;\n",
              "  color: #000000;\n",
              "}\n",
              "</style>\n",
              "<table id=\"T_88ceb\" class=\"dataframe\">\n",
              "  <thead>\n",
              "    <tr>\n",
              "      <th class=\"blank level0\" >&nbsp;</th>\n",
              "      <th id=\"T_88ceb_level0_col0\" class=\"col_heading level0 col0\" >Mathematics</th>\n",
              "      <th id=\"T_88ceb_level0_col1\" class=\"col_heading level0 col1\" >Physics</th>\n",
              "      <th id=\"T_88ceb_level0_col2\" class=\"col_heading level0 col2\" >Chemistry</th>\n",
              "      <th id=\"T_88ceb_level0_col3\" class=\"col_heading level0 col3\" >Biology</th>\n",
              "      <th id=\"T_88ceb_level0_col4\" class=\"col_heading level0 col4\" >History</th>\n",
              "      <th id=\"T_88ceb_level0_col5\" class=\"col_heading level0 col5\" >Computer Science</th>\n",
              "      <th id=\"T_88ceb_level0_col6\" class=\"col_heading level0 col6\" >Grade</th>\n",
              "    </tr>\n",
              "  </thead>\n",
              "  <tbody>\n",
              "    <tr>\n",
              "      <th id=\"T_88ceb_level0_row0\" class=\"row_heading level0 row0\" >Mathematics</th>\n",
              "      <td id=\"T_88ceb_row0_col0\" class=\"data row0 col0\" >1.000000</td>\n",
              "      <td id=\"T_88ceb_row0_col1\" class=\"data row0 col1\" >0.019356</td>\n",
              "      <td id=\"T_88ceb_row0_col2\" class=\"data row0 col2\" >-0.030063</td>\n",
              "      <td id=\"T_88ceb_row0_col3\" class=\"data row0 col3\" >-0.018076</td>\n",
              "      <td id=\"T_88ceb_row0_col4\" class=\"data row0 col4\" >0.017905</td>\n",
              "      <td id=\"T_88ceb_row0_col5\" class=\"data row0 col5\" >0.028816</td>\n",
              "      <td id=\"T_88ceb_row0_col6\" class=\"data row0 col6\" >0.006468</td>\n",
              "    </tr>\n",
              "    <tr>\n",
              "      <th id=\"T_88ceb_level0_row1\" class=\"row_heading level0 row1\" >Physics</th>\n",
              "      <td id=\"T_88ceb_row1_col0\" class=\"data row1 col0\" >0.019356</td>\n",
              "      <td id=\"T_88ceb_row1_col1\" class=\"data row1 col1\" >1.000000</td>\n",
              "      <td id=\"T_88ceb_row1_col2\" class=\"data row1 col2\" >-0.018091</td>\n",
              "      <td id=\"T_88ceb_row1_col3\" class=\"data row1 col3\" >0.010308</td>\n",
              "      <td id=\"T_88ceb_row1_col4\" class=\"data row1 col4\" >0.003323</td>\n",
              "      <td id=\"T_88ceb_row1_col5\" class=\"data row1 col5\" >0.006754</td>\n",
              "      <td id=\"T_88ceb_row1_col6\" class=\"data row1 col6\" >0.026517</td>\n",
              "    </tr>\n",
              "    <tr>\n",
              "      <th id=\"T_88ceb_level0_row2\" class=\"row_heading level0 row2\" >Chemistry</th>\n",
              "      <td id=\"T_88ceb_row2_col0\" class=\"data row2 col0\" >-0.030063</td>\n",
              "      <td id=\"T_88ceb_row2_col1\" class=\"data row2 col1\" >-0.018091</td>\n",
              "      <td id=\"T_88ceb_row2_col2\" class=\"data row2 col2\" >1.000000</td>\n",
              "      <td id=\"T_88ceb_row2_col3\" class=\"data row2 col3\" >0.001015</td>\n",
              "      <td id=\"T_88ceb_row2_col4\" class=\"data row2 col4\" >-0.003665</td>\n",
              "      <td id=\"T_88ceb_row2_col5\" class=\"data row2 col5\" >-0.009509</td>\n",
              "      <td id=\"T_88ceb_row2_col6\" class=\"data row2 col6\" >-0.013352</td>\n",
              "    </tr>\n",
              "    <tr>\n",
              "      <th id=\"T_88ceb_level0_row3\" class=\"row_heading level0 row3\" >Biology</th>\n",
              "      <td id=\"T_88ceb_row3_col0\" class=\"data row3 col0\" >-0.018076</td>\n",
              "      <td id=\"T_88ceb_row3_col1\" class=\"data row3 col1\" >0.010308</td>\n",
              "      <td id=\"T_88ceb_row3_col2\" class=\"data row3 col2\" >0.001015</td>\n",
              "      <td id=\"T_88ceb_row3_col3\" class=\"data row3 col3\" >1.000000</td>\n",
              "      <td id=\"T_88ceb_row3_col4\" class=\"data row3 col4\" >0.008084</td>\n",
              "      <td id=\"T_88ceb_row3_col5\" class=\"data row3 col5\" >0.023690</td>\n",
              "      <td id=\"T_88ceb_row3_col6\" class=\"data row3 col6\" >0.038822</td>\n",
              "    </tr>\n",
              "    <tr>\n",
              "      <th id=\"T_88ceb_level0_row4\" class=\"row_heading level0 row4\" >History</th>\n",
              "      <td id=\"T_88ceb_row4_col0\" class=\"data row4 col0\" >0.017905</td>\n",
              "      <td id=\"T_88ceb_row4_col1\" class=\"data row4 col1\" >0.003323</td>\n",
              "      <td id=\"T_88ceb_row4_col2\" class=\"data row4 col2\" >-0.003665</td>\n",
              "      <td id=\"T_88ceb_row4_col3\" class=\"data row4 col3\" >0.008084</td>\n",
              "      <td id=\"T_88ceb_row4_col4\" class=\"data row4 col4\" >1.000000</td>\n",
              "      <td id=\"T_88ceb_row4_col5\" class=\"data row4 col5\" >-0.026121</td>\n",
              "      <td id=\"T_88ceb_row4_col6\" class=\"data row4 col6\" >0.019439</td>\n",
              "    </tr>\n",
              "    <tr>\n",
              "      <th id=\"T_88ceb_level0_row5\" class=\"row_heading level0 row5\" >Computer Science</th>\n",
              "      <td id=\"T_88ceb_row5_col0\" class=\"data row5 col0\" >0.028816</td>\n",
              "      <td id=\"T_88ceb_row5_col1\" class=\"data row5 col1\" >0.006754</td>\n",
              "      <td id=\"T_88ceb_row5_col2\" class=\"data row5 col2\" >-0.009509</td>\n",
              "      <td id=\"T_88ceb_row5_col3\" class=\"data row5 col3\" >0.023690</td>\n",
              "      <td id=\"T_88ceb_row5_col4\" class=\"data row5 col4\" >-0.026121</td>\n",
              "      <td id=\"T_88ceb_row5_col5\" class=\"data row5 col5\" >1.000000</td>\n",
              "      <td id=\"T_88ceb_row5_col6\" class=\"data row5 col6\" >-0.013824</td>\n",
              "    </tr>\n",
              "    <tr>\n",
              "      <th id=\"T_88ceb_level0_row6\" class=\"row_heading level0 row6\" >Grade</th>\n",
              "      <td id=\"T_88ceb_row6_col0\" class=\"data row6 col0\" >0.006468</td>\n",
              "      <td id=\"T_88ceb_row6_col1\" class=\"data row6 col1\" >0.026517</td>\n",
              "      <td id=\"T_88ceb_row6_col2\" class=\"data row6 col2\" >-0.013352</td>\n",
              "      <td id=\"T_88ceb_row6_col3\" class=\"data row6 col3\" >0.038822</td>\n",
              "      <td id=\"T_88ceb_row6_col4\" class=\"data row6 col4\" >0.019439</td>\n",
              "      <td id=\"T_88ceb_row6_col5\" class=\"data row6 col5\" >-0.013824</td>\n",
              "      <td id=\"T_88ceb_row6_col6\" class=\"data row6 col6\" >1.000000</td>\n",
              "    </tr>\n",
              "  </tbody>\n",
              "</table>\n"
            ]
          },
          "metadata": {},
          "execution_count": 111
        }
      ]
    },
    {
      "cell_type": "code",
      "source": [
        "# Деление датасета на тестовую и обучающую выборки\n",
        "from sklearn.model_selection import train_test_split\n",
        "x_train1, x_test1, y_train1, y_test1 = train_test_split(data[['Mathematics', 'Chemistry', 'Computer Science']], data.Grade, test_size=0.2)"
      ],
      "metadata": {
        "id": "CTkJWON1tZgx"
      },
      "execution_count": 112,
      "outputs": []
    },
    {
      "cell_type": "markdown",
      "source": [
        "4. Проведите обучение модели,результатом должна быть сохраненная модель"
      ],
      "metadata": {
        "id": "Bl-IDw8atfJt"
      }
    },
    {
      "cell_type": "code",
      "source": [
        "from catboost import CatBoostClassifier\n",
        "\n",
        "model = CatBoostClassifier(iterations=500, depth=4, learning_rate=0.1)\n",
        "model.fit(x_train1, y_train1, silent=True)"
      ],
      "metadata": {
        "colab": {
          "base_uri": "https://localhost:8080/"
        },
        "id": "fZsu-RjptwTl",
        "outputId": "64de56de-f07b-4ce5-b699-2ad402e0c566"
      },
      "execution_count": 113,
      "outputs": [
        {
          "output_type": "execute_result",
          "data": {
            "text/plain": [
              "<catboost.core.CatBoostClassifier at 0x7d07d91c9810>"
            ]
          },
          "metadata": {},
          "execution_count": 113
        }
      ]
    },
    {
      "cell_type": "markdown",
      "source": [
        "5. Проведите тестирование модели,результатом должно быть число-точность модели на тестовой выборке."
      ],
      "metadata": {
        "id": "sHC8hn0MuMew"
      }
    },
    {
      "cell_type": "code",
      "source": [
        "accuracy = model.score(x_test1, y_test1)\n",
        "print(f'точность: {accuracy*100}%')\n"
      ],
      "metadata": {
        "colab": {
          "base_uri": "https://localhost:8080/"
        },
        "id": "CKjS3kvFuNAi",
        "outputId": "e84299cc-1cd6-405f-ae57-8c47c915b214"
      },
      "execution_count": 114,
      "outputs": [
        {
          "output_type": "stream",
          "name": "stdout",
          "text": [
            "точность: 33.0%\n"
          ]
        }
      ]
    },
    {
      "cell_type": "markdown",
      "source": [
        "6. Реализуйте функцию,которая на вход принимает оценку студента по 6 предметам и возвращает прогноз оценки."
      ],
      "metadata": {
        "id": "hvDBvUewuTrX"
      }
    },
    {
      "cell_type": "code",
      "source": [
        "def get_predict_grade(math, phis, chem, bio, hist, comsc):\n",
        "  subjects_test = ['Mathematics', 'Chemistry', 'Computer Science']\n",
        "  grades_test = np.array([[math, chem, comsc]])\n",
        "\n",
        "\n",
        "# добавление столбца с оценкой по лабораторной работе\n",
        "  data_test = pd.DataFrame(grades_test, columns=subjects_test)\n",
        "\n",
        "  pr = model.predict(data_test)\n",
        "  grade =''\n",
        "  match pr:\n",
        "    case 2:\n",
        "      grade='C'\n",
        "    case 1:\n",
        "      grade ='B'\n",
        "    case 0:\n",
        "      grade='A'\n",
        "\n",
        "  return grade"
      ],
      "metadata": {
        "id": "nZXM6FIQuRyy"
      },
      "execution_count": 115,
      "outputs": []
    },
    {
      "cell_type": "code",
      "source": [
        "\n",
        "# Результат работы функции\n",
        "print(get_predict_grade(70,90,56,12,65,100))"
      ],
      "metadata": {
        "colab": {
          "base_uri": "https://localhost:8080/"
        },
        "id": "eSZoOqVxuaHP",
        "outputId": "3fc762ee-0330-46d1-c947-bb3c7795879e"
      },
      "execution_count": 116,
      "outputs": [
        {
          "output_type": "stream",
          "name": "stdout",
          "text": [
            "B\n"
          ]
        }
      ]
    }
  ]
}