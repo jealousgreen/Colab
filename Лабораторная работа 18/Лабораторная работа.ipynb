{
  "nbformat": 4,
  "nbformat_minor": 0,
  "metadata": {
    "colab": {
      "provenance": []
    },
    "kernelspec": {
      "name": "python3",
      "display_name": "Python 3"
    },
    "language_info": {
      "name": "python"
    }
  },
  "cells": [
    {
      "cell_type": "code",
      "execution_count": 97,
      "metadata": {
        "colab": {
          "base_uri": "https://localhost:8080/"
        },
        "id": "A_wWAJDFO-_t",
        "outputId": "4963b382-9fab-4f39-954e-1ccdc69a5d0a"
      },
      "outputs": [
        {
          "output_type": "stream",
          "name": "stdout",
          "text": [
            "{'Date': '2023-10-19', 'Forecast Date': '21 октября', 'Temperature Max': '+5°', 'Temperature Min': '-1°', 'Condition': 'Пасмурно, небольшой дождь', 'Precipitation': '58%', 'Wind_Speed': '3', 'Wind_Speed_Direction': 'СВ'}\n",
            "{'Date': '2023-10-19', 'Forecast Date': '22 октября', 'Temperature Max': '+5°', 'Temperature Min': '-1°', 'Condition': 'Пасмурно, небольшой дождь', 'Precipitation': '80%', 'Wind_Speed': '4', 'Wind_Speed_Direction': 'ЮВ'}\n",
            "{'Date': '2023-10-19', 'Forecast Date': '28 октября', 'Temperature Max': '+8°', 'Temperature Min': '+5°', 'Condition': 'Пасмурно, небольшой дождь', 'Precipitation': '65%', 'Wind_Speed': '2', 'Wind_Speed_Direction': 'ЮВ'}\n",
            "{'Date': '2023-10-19', 'Forecast Date': '29 октября', 'Temperature Max': '+8°', 'Temperature Min': '+5°', 'Condition': 'Пасмурно, небольшой дождь', 'Precipitation': '70%', 'Wind_Speed': '1', 'Wind_Speed_Direction': 'ЮЗ'}\n",
            "{'Date': '2023-10-19', 'Forecast Date': '19 октября', 'Temperature Max': '+7°', 'Temperature Min': '+6°', 'Condition': 'Пасмурно, небольшой дождь', 'Precipitation': '77%', 'Wind_Speed': '3', 'Wind_Speed_Direction': 'Ю'}\n",
            "{'Date': '2023-10-19', 'Forecast Date': '20 октября', 'Temperature Max': '+6°', 'Temperature Min': '+4°', 'Condition': 'Пасмурно', 'Precipitation': '30%', 'Wind_Speed': '3', 'Wind_Speed_Direction': 'В'}\n",
            "{'Date': '2023-10-19', 'Forecast Date': '23 октября', 'Temperature Max': '+6°', 'Temperature Min': '+4°', 'Condition': 'Пасмурно, небольшой дождь', 'Precipitation': '81%', 'Wind_Speed': '3', 'Wind_Speed_Direction': 'С'}\n",
            "{'Date': '2023-10-19', 'Forecast Date': '24 октября', 'Temperature Max': '+6°', 'Temperature Min': '+5°', 'Condition': 'Пасмурно, небольшой дождь', 'Precipitation': '63%', 'Wind_Speed': '2', 'Wind_Speed_Direction': 'СЗ'}\n",
            "{'Date': '2023-10-19', 'Forecast Date': '25 октября', 'Temperature Max': '+5°', 'Temperature Min': '+2°', 'Condition': 'Облачно, небольшой дождь', 'Precipitation': '29%', 'Wind_Speed': '3', 'Wind_Speed_Direction': 'СВ'}\n",
            "{'Date': '2023-10-19', 'Forecast Date': '26 октября', 'Temperature Max': '+5°', 'Temperature Min': '-1°', 'Condition': 'Облачно', 'Precipitation': '40%', 'Wind_Speed': '4', 'Wind_Speed_Direction': 'ЮВ'}\n",
            "{'Date': '2023-10-19', 'Forecast Date': '27 октября', 'Temperature Max': '+7°', 'Temperature Min': '+4°', 'Condition': 'Пасмурно, небольшой дождь', 'Precipitation': '56%', 'Wind_Speed': '3', 'Wind_Speed_Direction': 'ЮВ'}\n",
            "{'Date': '2023-10-19', 'Forecast Date': '30 октября', 'Temperature Max': '+7°', 'Temperature Min': '+5°', 'Condition': 'Пасмурно', 'Precipitation': '46%', 'Wind_Speed': '1', 'Wind_Speed_Direction': 'Ю'}\n",
            "{'Date': '2023-10-19', 'Forecast Date': '31 октября', 'Temperature Max': '+7°', 'Temperature Min': '+5°', 'Condition': 'Пасмурно', 'Precipitation': '35%', 'Wind_Speed': '0', 'Wind_Speed_Direction': 'Зап.'}\n",
            "{'Date': '2023-10-19', 'Forecast Date': '1 ноября', 'Temperature Max': '+6°', 'Temperature Min': '+3°', 'Condition': 'Пасмурно', 'Precipitation': '39%', 'Wind_Speed': '1', 'Wind_Speed_Direction': 'Зап.'}\n"
          ]
        }
      ],
      "source": [
        "import requests\n",
        "import datetime\n",
        "from bs4 import BeautifulSoup\n",
        "\n",
        "url = 'https://www.meteoservice.ru/weather/14days/moskva.html'\n",
        "response = requests.get(url)\n",
        "\n",
        "if response.status_code == 200:\n",
        "    soup = BeautifulSoup(response.content, 'html.parser')\n",
        "    data = []\n",
        "\n",
        "    now_date = str(datetime.date.today())\n",
        "    for cls in ['callout forecast-row weekend', 'callout forecast-row']:\n",
        "      for idx, item in enumerate(soup.find_all('div', class_= cls)):\n",
        "          if idx < 2 and cls == 'callout forecast-row':\n",
        "            continue\n",
        "          date = item.find('div', class_='text-nowrap grey show-for-large').text.strip()\n",
        "          temperature = item.find('div', class_='small-3 medium-3 columns temperature text-left smedium-text-center').text.strip().split()\n",
        "          max_t, min_t = temperature[1], temperature[3]\n",
        "\n",
        "\n",
        "\n",
        "          condition = item.find('div', class_='column show-for-smedium text-left').text.strip()\n",
        "          precipitation = item.find('div', class_='precip-prob value').text.strip()\n",
        "          wind_speed = item.find('div', class_='show-for-medium medium-2 large-2 columns wind text-right text-nowrap').text.strip().split()\n",
        "          wind_speed_v, wind_speed_dir = wind_speed[1], wind_speed[0]\n",
        "\n",
        "          data.append({\n",
        "              'Date': now_date,\n",
        "              'Forecast Date': date,\n",
        "              'Temperature Max': max_t,\n",
        "              'Temperature Min': min_t,\n",
        "              'Condition': condition,\n",
        "              'Precipitation': precipitation,\n",
        "              'Wind_Speed': wind_speed_v,\n",
        "              'Wind_Speed_Direction': wind_speed_dir,\n",
        "          })\n",
        "\n",
        "    for item in data:\n",
        "        print(item)\n",
        "\n",
        "else:\n",
        "    print(\"Ошибка при получении доступа к сайту.\")"
      ]
    },
    {
      "cell_type": "markdown",
      "source": [
        "Что касается структуры данных для хранения в реляционной базе данных, вот таблицы и их связи:\n",
        "\n",
        "Таблица \"Города\":\n",
        "\n",
        "* city_id (Primary Key)\n",
        "* city_name\n",
        "* country\n",
        "\n",
        "Таблица \"Погода\":\n",
        "\n",
        "* weather_id (Primary Key)\n",
        "* city_id (Foreign Key)\n",
        "* Forecast date\n",
        "* Date\n",
        "* Temperature Max\n",
        "* Temperature Min\n",
        "* Condition\n",
        "* Precipitation\n",
        "* Wind_Speed\n",
        "* Wind_Speed_Direction\n",
        "\n",
        "Таким образом, каждая запись в таблице \"Погода\" будет связана с определенным городом из таблицы \"Города\" с помощью внешнего ключа \"city_id\". Это обеспечит организацию данных о погоде по городам в базе данных."
      ],
      "metadata": {
        "id": "ynKqPnIQqOd5"
      }
    }
  ]
}