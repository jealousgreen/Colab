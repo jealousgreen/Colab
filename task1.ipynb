{
  "nbformat": 4,
  "nbformat_minor": 0,
  "metadata": {
    "colab": {
      "provenance": [],
      "authorship_tag": "ABX9TyPi0gScxa8+v5xuUOm1Rvub"
    },
    "kernelspec": {
      "name": "python3",
      "display_name": "Python 3"
    },
    "language_info": {
      "name": "python"
    }
  },
  "cells": [
    {
      "cell_type": "code",
      "execution_count": null,
      "metadata": {
        "id": "phKPT5NvZIEm"
      },
      "outputs": [],
      "source": [
        "import numpy as np"
      ]
    },
    {
      "cell_type": "code",
      "source": [
        "A = np.matrix ([6, -8, 3])"
      ],
      "metadata": {
        "id": "TwWhQL2JbUn1"
      },
      "execution_count": null,
      "outputs": []
    },
    {
      "cell_type": "code",
      "source": [
        "B = np.matrix([[1], [1], [4]])"
      ],
      "metadata": {
        "id": "WuR3rMTKbXGt"
      },
      "execution_count": null,
      "outputs": []
    },
    {
      "cell_type": "code",
      "source": [
        "A * B"
      ],
      "metadata": {
        "colab": {
          "base_uri": "https://localhost:8080/"
        },
        "id": "gUW_V1KzbDvs",
        "outputId": "a6d08f9e-f7ba-4680-9d6e-30a6ecd02010"
      },
      "execution_count": null,
      "outputs": [
        {
          "output_type": "execute_result",
          "data": {
            "text/plain": [
              "matrix([[10]])"
            ]
          },
          "metadata": {},
          "execution_count": 15
        }
      ]
    },
    {
      "cell_type": "code",
      "source": [
        "C = np.matrix ([[-3, -7],\n",
        "                [-10, 6],\n",
        "                [0, -6],\n",
        "                [-1, -3]])"
      ],
      "metadata": {
        "id": "O56GGkuYcMzz"
      },
      "execution_count": null,
      "outputs": []
    },
    {
      "cell_type": "code",
      "source": [
        "D = np.matrix ([[-8, 9],\n",
        "                [4, -2]])"
      ],
      "metadata": {
        "id": "MR_ZAgqpcNC6"
      },
      "execution_count": null,
      "outputs": []
    },
    {
      "cell_type": "code",
      "source": [
        "C * D"
      ],
      "metadata": {
        "colab": {
          "base_uri": "https://localhost:8080/"
        },
        "id": "RFSFyFN3cmeO",
        "outputId": "68a657ce-1761-43d1-8b1a-1c925bea9de8"
      },
      "execution_count": null,
      "outputs": [
        {
          "output_type": "execute_result",
          "data": {
            "text/plain": [
              "matrix([[  -4,  -13],\n",
              "        [ 104, -102],\n",
              "        [ -24,   12],\n",
              "        [  -4,   -3]])"
            ]
          },
          "metadata": {},
          "execution_count": 21
        }
      ]
    }
  ]
}